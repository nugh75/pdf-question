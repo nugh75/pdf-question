{
 "cells": [
  {
   "cell_type": "code",
   "execution_count": null,
   "metadata": {},
   "outputs": [],
   "source": [
    "# !pip install langchain\n",
    "# !pip install openai\n",
    "#!pip install PyPDF2\n",
    "# !pip install faiss-cpu\n",
    "# !pip install tiktoken\n",
    "#!pip install --upgrade pip\n",
    "!pip install -U langchain-community\n",
    "#!pip install python-dotenv"
   ]
  },
  {
   "cell_type": "code",
   "execution_count": 77,
   "metadata": {},
   "outputs": [],
   "source": [
    "\n",
    "!pip freeze > requirements.txt\n"
   ]
  },
  {
   "cell_type": "code",
   "execution_count": 42,
   "metadata": {},
   "outputs": [],
   "source": [
    "from PyPDF2 import PdfReader\n",
    "from langchain.embeddings.openai import OpenAIEmbeddings\n",
    "from langchain.text_splitter import CharacterTextSplitter\n",
    "from langchain.vectorstores import FAISS"
   ]
  },
  {
   "cell_type": "code",
   "execution_count": 78,
   "metadata": {},
   "outputs": [],
   "source": [
    "from dotenv import load_dotenv\n",
    "import os\n",
    "\n",
    "# Carica le variabili di ambiente dal file .env\n",
    "load_dotenv()\n",
    "\n",
    "# Ora puoi accedere alle variabili di ambiente\n",
    "openai_api_key = os.getenv(\"OPENAI_API_KEY\")"
   ]
  },
  {
   "cell_type": "code",
   "execution_count": 79,
   "metadata": {},
   "outputs": [],
   "source": [
    "# provide the path of  pdf file/files.\n",
    "pdfreader = PdfReader('hoder.pdf')"
   ]
  },
  {
   "cell_type": "code",
   "execution_count": 80,
   "metadata": {},
   "outputs": [],
   "source": [
    "from typing_extensions import Concatenate\n",
    "# read text from pdf\n",
    "raw_text = ''\n",
    "for i, page in enumerate(pdfreader.pages):\n",
    "    content = page.extract_text()\n",
    "    if content:\n",
    "        raw_text += content"
   ]
  },
  {
   "cell_type": "code",
   "execution_count": 81,
   "metadata": {},
   "outputs": [
    {
     "data": {
      "text/plain": [
       "'Multilingual constructions\\nA diasystematic approach to common structures*\\nSteffen Höder\\nUniversity of Münster, Germany\\nLanguage contact phenomena are often described with reference to their effect \\non the monolingual systems of the varieties involved, both in historical and \\nin contact linguistics. This contribution argues that an essentially multilingual \\nperspective on these phenomena is more adequate. Bilingual speakers in stable bilingual groups create a common system for all their languages, incorporating \\nboth interlingual links and language-unspecified elements along with language-\\nspecific structures. In a construction grammar analysis, such systems as well as changes within this type of system can be conceptualized as interlingual \\nconstructional networks, which are established, stored, and processed in exactly \\nthe same way as monolingual grammars.\\nKeywords : German, Danish, Old Swedish, Latin, multilingualism, diasystem, \\nconstruction grammar\\n1. Introduction\\nThis contribution addresses a central theoretical problem in contact linguistics: is it \\nreasonable to assume that the languages or varieties used by a multilingual speaker group remain distinct systems even in cases of intense and stable language contact, or is it more appropriate to assume one common system? While it is a standard assump-tion in sociolinguistic studies that in dialect contact situations the varieties involved represent one (variable) system, the case is less straightforward when it comes to dif-ferent languages. \\n* I wish to thank all the people who have been willing to discuss some of the topics of this \\npaper with me, in particular Karoline Kühl, Kurt Braunmüller, Adele Goldberg, and Gabriele \\nDiewald. Furthermore, my thanks are due to two anonymous reviewers for their insightful and \\nhelpful comments.\\uf732\\uf734\\uf732\\tSteffen Höder\\nIn the following sections, I will argue that links between language-specific ele-\\nments constitute a system of overarching structures, based on the identification of ele-\\nments that are perceived as equivalent by multilingual speakers. The common core of the system is used in multilingual language processing, but also facilitates innovations \\nthat lead to an increasing congruence of the respective languages. Furthermore, I \\nsketch out how such a system can be modeled within a construction grammar (CxG) \\napproach (Diasystematic Construction Grammar, DCxG). This is first illustrated by \\npairs of closely related languages and then by the case of Old Swedish and Medieval Latin, two distantly related but typologically relatively similar languages that were in contact in late medieval Sweden.\\n2. Theoretical focus: Diasystems and multilingual constructions\\n2.1 Arguments for a multilingual analysis\\nIn contact linguistic studies the focus is often placed on the result of language contact from the perspective of one of the languages involved, rather than on the mechanisms of contact itself. While studies on (present-day) multilingualism concentrate on speak-ers’ communicative behavior (including both their individual linguistic repertoires and multilingual communicative strategies such as code-switching or borrowing and ‘mistakes’ , i.e. interferences) and language processing, contact as a factor in language change is primarily invoked in retrospective explanations. The story usually told is that elements and structures are transferred from one language to another, get established (possibly accompanied by additional intralingual innovations triggered by the initial transfer), and are increasingly integrated into the structural, functional, semantic, and phonological systems of the recipient language.\\n1\\nSuch descriptions are, of course, correct in the sense that they account for the \\nchanges within the individual language systems. However, they are premised on a monolingual perspective on what are, essentially, multilingual situations. Multilingual phenomena are analyzed as the result of an interaction or, indeed, a conflict between distinct language systems that are conceived of as rather static, coherent, and mono-lithic, much in the tradition of the structuralist view of languages as systèmes où tout se \\ntient . Implicitly, such a view seems to assume that multilinguals are purists to the extent \\nthat they (consciously or unconsciously) keep their different languages apart in both their cognition and their communication with others. This is, however, an unmotivat-ed assumption. Multilingualism is far more prevalent than monolingualism, measured \\n1. The terms and concepts used to describe and classify such phenomena are, of course, man-\\nifold. What I label transfer here, in a broad sense, includes what is called, for example, ‘borrow-\\ning’ by Thomason & Kaufman (1988) as well as Matras (2009), ‘code-copying’ by Johanson \\n(2008), ‘grammatical replication’ by Heine & Kuteva (2005), or even ‘convergence’ in Myers-\\nScotton’s (2002) model. Multilingual constructions \\uf732\\uf734\\uf733\\non a global and historical scale (Lüdi 1996: 234ff), and a multilingual communicative \\nmode (Grosjean 2001) is the rule rather than the exception in multilingual speaker groups, i.e. a communicative mode in which more than one language is constantly used or activated in some way in the discourse (manifesting itself in ad hoc  borrowings, \\nfrequent code-switches and the like, or multilingual communicative strategies such as accommodation, semi-communication, and similar phenomena). Mono lingual modes \\nin multilingual groups, in contrast, are rather an effect of socio- or extralinguistic fac-tors that prevent some or all kinds of multilingual phenomena.\\n2\\nPsycholinguistic studies also emphasize that the linguistic knowledge of multilin-\\ngual speakers (especially in multilingual groups) is not simply the sum of their individual monolingual competences, and that multilinguals are not ‘multiple mono-linguals’ . Multilinguals process their languages in a way different from monolingual speakers, which suggests cognitive interaction between the languages at various levels (see, e.g., Grosjean 1989, 2008: 9ff).\\nIf we assume that multilingualism is not only widespread but, in a way, a funda-\\nmental characteristic of the human language faculty,\\n3 then there is a need for a theo-\\nretical approach to multilingual language use which integrates this perspective into the grammatical description of multilingual speakers’ linguistic knowledge, or at least a coherent description of the interrelations between the languages involved. This implies a multilingual system that captures both language-specific and multilingual structures as interdependent parts of one  grammatical and lexical system.\\n4\\nWhile theoretically motivated, such an approach is also relevant in, for instance, \\nthe investigation of code-switching or transfer phenomena in language contact situa-tions. Standard code-switching models such as Myers-Scotton’s (2002) Matrix Lan-guage Frame Model take considerable pains to ultimately determine the language of a particular sequence, morpheme, construction, or category within a given multilingual utterance, especially in order to figure out which of the languages at hand is dominant \\n2. Obvious examples are lexical purism, which can have official status (as in Standard Icelan-\\ndic, but less so in colloquial varieties), or particular constructions that are stigmatized in a spe-\\ncific variety (e.g. [weil ‘because’ + V2 clause] in written German, while being perfectly normal \\nin the spoken language). In addition, a monolingual mode may be demanded in certain con-texts, as in the schools of the Danish minority in Germany where pupils are required to use either Standard Danish or Standard German instead of the local, German-influenced variety of \\nDanish or the multilingual mode common in everyday conversation (Kühl 2008: 261).\\n3. It can be argued that the synchronic and diachronic variability of language, as well as the \\ncapability of all humans to cope with intralingual variation, indeed implies that multilingualism \\nhas the status of an ‘essential universal’ , related to Coseriu’s (1974) notion of ‘historicity’ (see Oesterreicher 2001).\\n4. This is even more obvious if we accept that there is no straightforward distinction between \\nmulti lingualism  and multilectalism , i.e. the knowledge and use of different varieties (of one lan-\\nguage) – monolectalism  does not exist, as not even a monolingual speaker’s competence is re-\\nstricted to only one variety of his/her language.\\uf732\\uf734\\uf734\\tSteffen Höder\\n(the ‘matrix language’). This approach relies, of course, on the possibility to distinguish \\ndifferent languages within an utterance (and, optimally, to divide the utterance into monolingual linear segments). However, the more similar two languages are, the less feasible such an assignment becomes. Examples demonstrating this difficulty abound \\nin the contact linguistic literature; the following three cases of bilingual (Colloquial \\nNorth) High German-Low German utterances may illustrate the point:\\n (1) An dat Licht kann de Hausmeister nix ännern.\\n  at the light can the caretaker nothing change\\n  ‘The caretaker can’t do anything about the light. ’\\n (2) Keinen Muckefuck, richtigen Kaffe, dat smeckt goot.\\n  no coffee substitute real coffee that tastes good\\n  ‘No coffee substitute, [but] real coffee, that tastes good. ’\\n (3) In Kiel mag Anna nich wohnen.\\n  in Kiel likes Anna not live\\n  ‘ Anna wouldn’t like to live in Kiel. ’\\nIn these examples, the sequences in italics are unambiguously Low German, and the \\nunderlined words are unequivocally High German, whereas the remaining part of the utterances – in fact, the majority of words – is totally ambiguous (in (3), this is true for \\nthe whole utterance).\\nY et, even this analysis still greatly exaggerates the proportion of unambiguously \\nmonolingual elements, since it is only based on the lexical surface, i.e. the language of \\nthe (lexical and grammatical) morphs. Most of the abstract semantic, morphological, syntactic, and in part even phonological structures that are also present in these utter -\\nances are in fact undistinguishable between the two languages. Research on the com-\\nmunicative behavior of multilinguals as well as studies in areal linguistics suggests that \\n– provided two languages are used by the same speaker group in similar communica-\\ntive contexts or domains – the most prominent idiosyncrasies of the two languages will \\nbe on the level of the lexical (or, indeed, phonological) surface.\\n5 Conversely, the num-\\nber of actually deviating (not purely lexical) structures tends to be rather low.\\nIt would, therefore, be more to the point not to focus on whether an element in a \\nmultilingual utterance belongs (or can be analyzed as belonging) to language A or B, but rather on whether it represents some common  structure shared by A and B or an \\nidiosyncratic feature of one of the languages. Such a perspective may be less compelling in contact situations in which the languages are less similar. But even contact lan-guages without a (close) genetic relationship often share a lot rather abstract structural \\n5. See Muysken’s (2000: 122ff) discussion of ‘congruent lexicalization’ , Aikhenvald’s (2007: \\n28ff) observations on ‘morpheme-per-morpheme intertranslatability’ or Heine & Kuteva’s \\n(2005: 179f) remarks on ‘exact structural equivalence’ . Multilingual constructions \\uf732\\uf734\\uf735\\npatterns, and these similarities or overlaps are not only constructible in theory, but \\nindeed form part of a multilingual’s knowledge (see Section 2.2).\\n2.2 Interlingual identification: Diasystematic links\\nThe idea that shared structures are in some way accessible to and in fact utilised by multilingual speakers within their linguistic knowledge and language processing goes back to Weinreich’s (1954: 390) useful notion of ‘diasystem’:\\nA ‘diasystem’ can be constructed by the linguistic analyst out of any two systems \\nwhich have partial similarities ... But this does not mean that it is always a scien-\\ntist’s construction only: a ‘diasystem’ is experienced in a very real way by bilingual \\n(including ‘bidialectal’) speakers ...\\nThis notion was, as is well known, developed as an attempt to introduce a structuralist \\napproach into dialectology, and has mostly been applied to dialectal phonology (Weinreich’s own examples were from Yiddish dialects): two dialects are said to be part of the same (phonological) diasystem if certain elements (e.g. phonemes) in dialect A regularly correspond to a set of elements in dialect B. However, the concept can easily be extended to also cover (a) other parts of the language system and (b) different lan-guages in addition to different dialects.\\n6\\nThe basic process in establishing a ‘real’ diasystem, i.e. one that is embedded in \\nspeakers’ cognition and language use, is interlingual identification (Weinreich 1964: 7f). \\nInterlingual identification is based on similarity relations between different elements in different varieties, which are perceived as equivalents by multilingual speakers ac-cording to (often competing) structural, phonic, semantic, functional, pragmatic, or other criteria (see Section 3 for examples). Two elements or structures in two different varieties are thus not equivalent to each other by themselves, intrinsically or self- evidently. Rather, interlingual equivalence is to some degree arbitrary and always reflects a creative act of a multilingual community, even though it is partially moti-vated by one of several competing similarity relations. The result of a successful interlingual identification is an established diasystematic link between two different elements, i.e. a socially conventionalized mapping.\\n7\\n6. Weinreich’s original proposal presupposed the existence of language-specific ‘systems’ in a \\nstrictly structuralist sense. For the purpose of the following discussion, this is, of course, not a \\nnecessary prerequisite.\\n7. Evidence for social conventionalization comes, as an example, from phonological substitu-\\ntion rules in loanword integration. For example, French [\\U000f004c � ¢ \\U000f0082)] are regularly rendered as \\n[a] ε] f] œ]] in (Colloquial North) High German (e.g. French engagement [ \\U000f004c:aŠm\\U000f004c] > NoHG \\nEngagement [a]:aŠәÁm\\U000f0027]] ‘commitment’), based on phonetic similarity. In contrast, Standard \\nGerman (StG) /e˜/ is usually taken to correspond to Low German (LG) /ε\\U000f007e/ rather than the pho-\\nnetically more similar /e/ (as can be seen in mutual loanwords: StG System [zysÁte ˜m] > LG \\uf732\\uf734\\uf736\\t Steffen Höder\\nIf we take a diasystematic link between two language-specific elements as consti-\\ntuting a more abstract item within an overarching system shared by the two languages, \\nthen we can assume the existence of ‘dia-elements’: a ‘diaphoneme’ would be the ab-stract unit of which two language-specific phonemes are variants (such as StG /a\\U000f007e/, \\nAustrian Standard German /ε\\U000f007e/), a ‘diamorph’ represents phonologically correspond-\\ning morphs conveying the same semantic information (e.g. StG Haus  [ha\\U000f0080s] ‘house’ , \\nLG Huus  [hus]; cf. the terminology introduced by Haugen 1956: 46f), lexical ‘diacon-\\ncepts’ typify mutually translatable lexemes (Dan by, Swe stad ‘town’), ‘diasyntactic’ \\nitems link different language-specific constructions that are functionally identical and structurally parallel to some extent (such as verb-initial polar questions in e.g. StG bist \\ndu wach? and Dan er du vågen? ‘are you awake?’), and so forth.\\nDiasystematic links and dia-elements constitute a network through which two lan-\\nguage systems used within a multilingual speaker group are interconnected. The de-gree to which two varieties in contact participate in the common diasystem depends, of course, on their typological similarity: closely related and typologically similar lan-\\nguages can more easily develop a high degree of diasystematicity – i.e. the common \\nintersection of their systems is larger – than more distant languages, which retain a \\nlarger proportion of idiosyncrasies in their systems (Höder 2011, forthcoming).\\n2.3 A construction grammar perspective: Diasystematic Construction Grammar\\nAmong contemporary grammatical frameworks, approaches from the construction grammar (CxG) ‘family’ , such as Croft’s (2001) typologically inspired Radical Construction Grammar or Goldberg’s (1995, 2006) Cognitive Construction Grammar, can most convincingly adapt to the idea of a diasystematic component in the grammar, connecting more than one monolingual system. To my knowledge, only little work has been done up to now on language contact within a CxG approach (but see, as an ex-ample, Pietsch’s 2010 work on contact-induced change in Irish English). However, the idea that constructions are the locus of contact-induced language change seems ac-ceptable to many (see Heine & Kuteva 2005: 44), a view that is reinforced by the recent growing interest in CxG approaches to diachronic change in general (see, for instance, the contributions in Bergs & Diewald 2008).\\nDespite the existing theoretical variation among CxG approaches, they all agree \\non the following ideas:\\nSysteem [zısÁtε\\U000f007em] ‘system’; LG Reep  [rε\\U000f007ep] > StG Reep  [re˜p] ‘rope’); this mapping is based on the \\ndistribution of the respective vowels in cognates. Another hint at the existence of conventional-\\nized correspondences is that they change over time: English /¤/ used to be treated as an equiva-\\nlent of Standard German /ø/, while today it corresponds to /a/; this change is reflected in different renderings in earlier and more recent loanwords, e.g. English pumps  [p¤mps] (shoes) > StG \\nPumps  [pømps], but punk ‘Punk’ (music genre) [p¤]k] > StG Punk  [pa]k]. Multilingual constructions \\uf732\\uf734\\uf737\\na. the whole grammar is organized as an inventory of constructions, i.e. form–mean-\\ning pairs, in a continuum involving everything from lexically filled constructions (such as words) via partially filled constructions (for example in inflectional para-digms) to maximally schematic ones (such as syntactic or prosodic patterns);\\nb. more schematic and more concrete constructions are connected through inheri-tance links, forming a network of interdependent elements;\\nc. speakers learn schematic constructions by categorizing them on the basis of the available input, resulting in an economic representation of their linguistic knowledge;\\nd. not all constructions are rule-based and productive, many are irregular in that \\nthey are not predictable from more abstract structures.\\nIn other words, speakers organize their linguistic knowledge and, hence, the grammar \\nof their varieties through abstraction and generalization processes: filled constructions that behave identically in some respect are taken to instantiate a single, more abstract construction. While this kind of usage-based grammatical organization is assumed to apply in all types of linguistic situations, and while CxG has been primarily applied to monolingual contexts, there is no a priori reason why such generalization and abstrac-\\ntion processes should be blocked by language boundaries in multilingual environ-\\nments. On the contrary, it has to be expected that categorization as a cognitively \\neconomic process does include all languages (and dialects, of course) in any situation \\nin which the available input is multilingual, too. Interlingual identification, therefore, is categorization in very much the prototypical CxG sense: similar constructions in \\ntwo different languages are taken to instantiate a common ‘diaconstruction’ .\\nConsequently, Diasystematic Construction Grammar assumes that, within a mul-\\ntilingual system, some constructions are unspecified for language (such as abstract \\nsyntactic constructions and lexical concepts), while others (above all lexically and \\nphonologically filled constructions) are language-specific. Language-specificity can be \\nmodeled as being part of the pragmatic meaning of a construction, which manifests itself in contextual restrictions of the type ‘use language L\\nx in the pragmatic contexts \\nCx:1,2,3, ...’ . This is in line with the fact that multilingual groups tend to associate their \\nrespective varieties with different communicative functions, both in terms of large-scale polyglossia within a society and the specific criteria for language choice shared by, say, a bilingual family (as well as the criteria for the choice of a variety within any \\nlanguage community). The idea of a multilingual diasystem is thus fully compatible with a CxG perspective on the organization of grammar and grammatical knowledge. \\nTable 1 illustrates the relation between language-specific and unspecified con-\\nstructions, involving different types and degrees of schematicity:\\n8\\n8. Conventions: Meaning and form are arranged in separate lines. Lexical meanings are \\nmarked by inverted commas (e.g. ‘town’), grammatical meanings by angle brackets (<polar \\nquestion>). Pragmatic contexts are abbreviated by the corresponding glottonym in curly brack-\\nets ({Swe}). Square brackets ([...]) indicate the form of a construction, with schematic components \\uf732\\uf734\\uf738\\t Steffen Höder\\nTable 1. Language-specific and unspecified constructions\\nlexical \\ndiaconceptdiamorph diasyntactic  construction\\ncontact languages Danish, SwedishStandard German, Low GermanGerman,  Danish\\nunspecified ‘town’  \\n[_]‘house’ [/h_s/]<polar question> [finite\\n1 + ...]\\nlanguage A ‘town’ {Dan} \\n[by]‘house’ {StG} [/ha\\U000f0080s/]–\\nlanguage B ‘town’ {Swe} \\n[stad ]‘house’ {LG} [/hus/]–\\nDanish and Swedish, for example, share a common diaconcept (‘town’), but this concept \\nis expressed by different and non-cognate morphs (see column 1). The Standard German-Low German bilingual speakers have a common construction meaning ‘house’ , which is partly phonologically filled (consonantal onset and coda), whereas the lan-guage-specific constructions only specify the stem vowel (which, in turn, is based on a diaphonemic construction that defines the respective vowels [a\\U000f0080 ] and [u] as language-\\nspecific variants; see column 2). Finally, German-Danish bilinguals can do without lan-guage-specific constructions for polar questions, as one schematic construction \\n(specifying the verb-initial word order) is sufficient for both languages (see column 3).\\n9\\n2.4 Towards interlingual congruence: Pro-diasystematic change\\nDiachronically, diasystematic links should be expected to lead to or at least facilitate increasing interlingual congruence in situations of stable and intense language con-tact, i.e. a higher proportion of common structures and a lesser proportion of idiosyn-crasies. This is achieved through a regularization of interlingual correspondences. In DCxG terms, this ‘pro-diasystematic’ change implies an increase in the number of schematic constructions unspecified for language.\\nFrom the multilingual speakers’ cognitive perspective, pro-diasystematic change \\ninvolves a simplification of the common system, as a construction loses its language-specific contextual restriction and, thus, can become productive in the other language \\nin small capitals (e.g. subj), lexically filled components in italics (by ), phonologically filled parts \\nbetween slashes (/hus/). An underscore (_) indicates an unspecified component. Numerical in-\\ndexes represent the linear order of elements.\\n9. In fact, all of the unspecified constructions given in Table 1 could in principle, given an ap-\\npropriate multilingual context, apply to any of the mentioned languages (e.g. /h_s/ in Swedish \\nhus [hu˜s], or the lexical concept ‘town’ in German Stadt , which of course is a cognate of the \\nSwedish lexeme). Multilingual constructions \\uf732\\uf734\\uf739\\nas well: a form in language B is predictable on the basis of (a) the form in language A \\nand (b) its inheritance link to an unspecified diaconstruction.10 Thus, pro-diasystem-\\natic change is not necessarily the same thing as transfer from language A to B, nor does it always coincide with constructional borrowing, as the two languages need not be-come more similar with respect to the concrete forms. In contrast, pro-diasystematic change can even result in interlingual divergence at the surface (for instance, the dia-\\nphonemic identification of StG /a\\U000f007e/ with LG /ε\\U000f007e/ leads to the innovative form Ee /ε\\U000f007e/ \\n‘egg’ in Low German, based on StG Ei /a\\U000f007e/, even though the traditional form in Low \\nGerman is also Ei; see Höder 2011). It is crucial, though, that pro-diasystematicity is a \\nfactor relevant to the social selection rather than the initial emergence of innovative forms: a bilingual group will preferably accept pro-diasystematic innovations, but, of course, other innovations are not ruled out and may even be preferred if favored by system-external factors (as, for example, with emblematic idiosyncrasies used to ex-press linguistic identity or group affiliation in bilingual contexts).\\nIn the following section, I will discuss, from a diasystematic perspective, a lan-\\nguage contact situation in which both contact-induced language change and diachron-ic stability occur.\\n3. Case study: Latin-Old Swedish contact\\n3.1 Background: Written Old Swedish\\nIn medieval Sweden, Latin – the fossilized variety of Classical Latin used in ecclesiasti-cal institutions – is the predominant written language, used mainly for administrative, religious, and literary purposes, while Old Swedish is used in the domains of everyday life as a non-standardized and primarily spoken language. From the 13th century on-wards, however, Swedish is also used in written communication, a process starting out in a highly multilingual environment: the scribes are mainly Latin-Swedish bilingual clerics, organized in close-knit monastic communities, the texts are often translated from Latin sources, text types are adapted from Latin models, and Latin textual norms are used even when writing in Swedish, a process that opens the door for a wide range of contact-induced language change phenomena (see Wollin 1981/1983). The result is the emergence of a distinct, written variety of Late Old Swedish (ca. 1375–1526).\\n11\\nLatin and Old Swedish represent rather distantly related branches of the Indo-\\nEuropean family and are, therefore, not very similar in the lexicon. Grammatically, \\n10. This type of multilingual simplification includes cases in which the monolingual systems of \\nthe individual languages get more  complex due to the innovation (Dahl 2009; for examples, see \\nSections 3.2 and 3.3).\\n11. For a comprehensive discussion and analysis of syntactic innovations in written Old \\nSwedish see Höder (2010).\\uf732\\uf735\\uf730\\tSteffen Höder\\nhowever, their typological distance is rather low. This includes a relatively complex \\ninflectional system in both languages, as the inherited system of Old Swedish is still quite intact around 1300, though slowly giving way to a more agglutinative system as found in Modern Swedish. However, there are discrepancies in different parts of the \\nlanguages’ morphology and syntax, in which a common system is impossible to con-\\nstruct. The following sections illustrate the diachronic development of different multi-\\nlingual phenomena from a diasystematic point of view.\\n3.2 Category mapping in nominal inflection\\nOld Swedish and Latin nouns are inflected for three categories, viz. case, number, and \\ngender. It is not surprising that bilingual speakers identify these categories interlin-gually, as can be inferred from code-switching phenomena in Old Swedish texts, in which Latin words and phrases are assigned a Swedish gender or syntactically inte-grated in (and inflected according to) Swedish constructions:\\n (4) æst thu helias som koma scal for domadagh\\n  are you Elijah-nom(Lat) who come shall before Doomsday\\n  ‘ Are you Elijah, who will come before Doomsday?’ (SsS 95)\\n (5) ey ær helie persona  min persona\\n  not is Elijah-gen(Lat) person my person\\n  ‘Elijah’s person is not my person. ’ (SsS 95)\\n (6) scippadhir ... til confessorem generalem\\n  invested to confessor-acc.sg(Lat) general-acc.sg.m(Lat)\\n  ‘[after he is] invested ... as general confessor’ (OCG 113)\\nThe underlined forms illustrate bilingual case mapping: the name helias  in (4) and (5) is \\nmarked as nominative or genitive by the corresponding Latin suffixes depending on the \\nSwedish construction it occurs in (expressing a predicative complement or a possessor, respectively); in (6), the Latin accusative confessorem generalem is governed by the Swed -\\nish preposition til.\\n12 The loanword persona  in (5), whether an ad hoc  borrowing or already \\nestablished, is assigned feminine gender (cf. the agreeing pronoun min  ‘my’ [m/f]).\\nInterestingly, the interlingual identification of nominal inflectional categories is \\nbased on different similarity relations. Number is clearly mapped on a semantic basis, whereas gender assignment is partly based on semantic and partly on formal equiva-lences: the correspondence between gender and sex in nouns and proper names refer -\\nring to humans (such as Lat femina ↔ OSw kona ) suggests a functional equivalence \\neven for (the majority of) nouns in which gender assignment is largely arbitrary; this equivalence is reinforced by formal similarities, especially in the feminine gender, as feminine nouns typically contain a suffix -a in both languages. \\n12. In Early Old Swedish (like in Old Norse), til normally governed the genitive; in Late Old \\nSwedish, however, the accusative was frequently used after this preposition. Multilingual constructions \\uf732\\uf735\\uf731\\nCase is mapped on the basis of similar functions and distributions across syntactic \\nconstructions (such as the genitive in the possessive construction). As for the dative \\n(OSw and Lat) and ablative (Lat), the mapping is more complex and in parts diffuse, the more so because dative and ablative are frequently homophonous in Latin, which \\nmakes an interlingual identification on the basis of formal similarity easily possible. As \\nprepositional constructions in Latin never contain a dative, the ablative is used even \\nafter Old Swedish prepositions that usually take the dative case (such as moth  ‘against’ \\nin (7)), whereas the Latin dative is used in the ditransitive construction (e.g. sancte  \\nbirgitte\\n13 in (8)).\\n (7) [han] wende sik moth seniore\\n  [he] turn-sbjv refl against senior-abl(Lat)\\n  ‘[he] shall turn to the senior [a church official]’ (OCG 113)\\n (8) Maria gwdz modher kwngør sancte birgitte\\n  Mary God’s mother tells holy-dat.f.sg(Lat) Birgitta-dat.sg(Lat)\\n  ‘Mary, God’s mother, tells Saint Birgitta’ (Bir 137)\\nAdditional evidence comes from participial constructions, more precisely from abso -\\nlute participles (see Ahlberg 1942, Höder 2010: 222ff). Absolute participles represent a \\nmarginal but productive construction in Written Old Swedish, modeled on – and used \\nas an equivalent of – a functionally and structurally corresponding construction in Latin, the so-called ‘ablative absolute’ . In this construction, a verb takes a participial form in the ablative case, and the agent (with active participles) is also expressed as an ablative ([noun\\nabl + verbptcp .abl]). The Swedish construction follows the same pat-\\ntern, except that participial forms are uninflected and the ablative is replaced by the dative case ([noun\\ndat + verbptcp]):\\n (9) iach scriffwar eder aff gwdelikom kærlek gwdhy tet vetandhe\\n  I write you of divine love God-dat  it knowing\\n  ‘I write to you out of divine love, with God knowing it. ’ (Bir 146f)\\nThe nominal inflectional categories (encoded morphologically in both languages) are thus treated by the bilingual speakers as representing language-specific variants of common, unspecified categories. The possessive construction [noun + noun\\ngen], for \\nexample, is language-unspecific, as it can be filled by either Swedish or Latin nouns and genitives. The same holds for the ditransitive construction [verb +  noun\\ndat + \\nnounacc]. The prepositional construction [prep + noundat] is exclusively Swedish but \\nlinked to the corresponding Latin construction [prep + nounabl] via a more schematic \\ndiaconstruction [prep + noundat/abl]. Similarly, schematic absolute participle con-\\nstructions are language-unspecific ([noundat/abl + verbptcp]), but language-specific \\nconstructions are needed to account for the actual case marking.\\n13. The suffix -e is often used in Medieval Latin as a graphical variant of (Classical) - ae.\\uf732\\uf735\\uf732\\tSteffen Höder\\nThe interlingual mapping of the nominal inflectional categories is, from a \\ndiasystematic point of view, almost perfect in the sense of morpheme-based inter -\\ntranslatability. Once established, it is thus a case of stable diasystematicity in a contact \\nsituation; no changes are observable during the Old Swedish period.14\\nIn contrast to diasystematic stability as a result of a near-perfect congruence be-\\ntween two language systems, the existence of a fourth morphological category in Old \\nSwedish causes stable idiosyncrasy: definiteness. Definiteness in Late Old Swedish is a \\ncomplex category, applying to nominal constructions rather than nouns and expressed by different and in part optional markers (both determiners and adjectival/nominal suffixes), as is illustrated in (10):\\n (10) Tha gømdhis æn then gambla laghen\\n  then observed-pass still def.m.sg old-sg.def law-def.m.sg\\n  ‘ At that time the old law was still in effect. ’ (Bir 166)\\nLatin did not have a formally or functionally similar category (even though demon-\\nstratives such as iste ‘this’ , for instance, evidently imply definiteness).\\n15 Consequently, \\nthe Latin-Old Swedish bilinguals do not treat any Latin structures as equivalents to Swedish definiteness, neither in translating (definiteness markers are used depending on the [implicit] context) nor in code-switching (ad hoc borrowings from Latin are not marked for definiteness). Definiteness thus represents a language-specific construc-tion. Latin nouns in Swedish nominal constructions are accordingly treated as un-specified for definiteness and, hence, occur both in definite and non-definite contexts, as illustrated in (11) by the form confessore  used in a definite context:\\n (11) abbatisson ne wal ranzsake ...\\n  abbess-gen.pl-def-gen.pl election investigate-sbjv\\n  biscopen m ädh confessore\\n  bishop-def.m.sg with confessor-abl(Lat)\\n  ‘The bishop shall investigate the abbesses’ election together with the confessor. ’ (OCG 122)\\nEven this behavior is stable during the Old Swedish period, except when conventional-ized loanwords are integrated morphologically, with Swedish suffixes being used in \\n14. In the later development of Swedish, however, the interlingual mapping becomes less un-\\nambiguous and less stable (see Wollin 2007); a likely explanation is that other factors (such as \\nphonologically based gender assignment) become more dominant as the relevance of bilingual \\ndiasystematicity decreases when the written language is no longer used exclusively by educated, \\nbilingual speakers.\\n15. The earliest written sources in Old Swedish deviate from the later norm in that definiteness \\nis not obligatorily marked; this system is thus closer to Latin than the later one. However, by \\nabout 1400, definiteness seems to be fully established as a (mandatory) grammatical category in \\nWritten Old Swedish. Multilingual constructions \\uf732\\uf735\\uf733\\ngeneral (cf. the Swedish genitive suffix -o along with the definiteness marker -nne in \\nabbatissonne  in (11); the corresponding Latin genitive would be abbatissae ).\\n3.3 Pronominal relative clauses\\nAn example of increasing diasystematicity is the emergence of pronominal relative \\nclauses in Old Swedish (for a detailed analysis see Höder 2010: 199ff, see also Lindblad \\n1943). In Early Old Swedish (prior to 1375), relative clauses with an antecedent are exclusively introduced by uninflected relative particles (such as sum; see example (12)) \\nor gaps. Latin, on the other hand, has only pronominal relativizers (with full-fledged inflectional paradigms), mostly homophonous with interrogative determiners (e.g. the most frequent qui). However, Swedish and Latin relative clause constructions are eas-\\nily identifiable as interlingual equivalents, based on their similar meaning (providing additional information about a given referent) and structural similarities (finite claus-es, clause-initial relativizers, coreference with an antecedent).\\n16 \\nIn Written Old Swedish (after 1375), bilingual speakers increasingly use inflected \\nrelative pronouns along with the inherited relativizers, predominantly the pronouns hviliken (originally an interrogative ‘which’; see example (13)) and þän (otherwise de-\\nmonstrative ‘that’). The innovative relativizers are particularly frequent in appositive relative clauses, which also constitute an innovative functional relative clause type (as opposed to restrictive and generalizing relative clauses).\\n (12) The preste som væl foresta sino æmbete\\n  the priests rel well govern poss.3sg.refl-dat office\\n  ‘The priests that administer their office well ... ’ (SsS 101)\\n (13) ... kærlekin hwlkin høxth ær j allom dygdom\\n   love-def rel-nom.sg.m highest is in all virtues\\n  ‘... love, which is the highest of all virtues’ (Bir 149)\\nThe emergence of pronominal relativizers can be interpreted as an instance of gram-\\nmatical replication (Höder 2010: 218ff), presumably reinforced by the increasingly common practice of formally equivalent translation from Latin sources (Kranich, Becher & Höder 2011) and the social prestige of that language.\\n17\\nFrom a bilingual point of view, though, this process is at the same time a highly \\npro-diasystematic and thus a cognitively economic change. Before the innovation, bi-lingual speakers have to store and process language-specific relative clause constructions which are diasystematically linked, but only through very abstract, schematic, and \\n16. For a typological overview of possible relativization strategies beyond this type, see \\nLehmann (1984: 43ff and passim).\\n17. Quantitative analyses show that appositive relative clauses in Latin sources are usually ren-\\ndered as pronominal relative clauses in Old Swedish translations (Höder 2010: 216f).\\uf732\\uf735\\uf734\\t Steffen Höder\\nsemantically unspecific diaconstructions, viz. a ‘relative clause diaconstruction’ (speci-\\nfying the clause-initial position and clause-internal function of the relativizer) and a ‘relativizer diaconstruction’ (representing the grammatical concept of a lexically ex-pressed relativizer). Anything else is language-specific, in particular the morphological \\nproperties of the relativizers (uninflected vs. marked for case, number, and gender):\\nTable 2. Old Swedish and Latin relative clause constructions (pre-change)\\nunspecified {Old Swedish} {Latin}\\n<relative clause> \\n[rel1 + ...]<restrictive relative clause> [rel.particle\\n1 + ...]<relative clause> [rel.pron\\n1 + ...]\\n<relativizer> [_]<relative particle> [_]<relative pronoun> [interr.pron\\n1 + cng2]\\nBut with pronominal relativizers in Old Swedish, as a result of the innovation, bilin-\\ngual speakers can construct relative clauses in both languages based on common con-structions (reflecting the originally Latin model), including (a) relative clause con-structions that allow for appositive clauses, (b) an exactly equivalent complex grammatical meaning of the pronominal relativizers (specifying case, number, and gender rather than just signaling relativization), and (c) even a lexical diaconstruction in the case of the relative/interrogative pronouns OSw hviliken and Lat qui, which cor -\\nrespond to each other in any clause type. The combined system can be summarized (in a somewhat idealized fashion) in the following way:\\n18\\nTable 3. Old Swedish and Latin relative clause constructions (post-change)\\nunspecified {Old Swedish} {Latin}\\n<relative clause> \\n[rel.particle1 + ...]–\\n<relative clause> [rel.pron\\n1 + ...]– –\\n<relative pronoun> [interr.pron\\n1 + cng2]– –\\n‘which (rel/interr)’ [_]‘which (rel/interr)’ [hviliken]‘which (rel/interr)’ [qui]\\n18. The devil is the details that are not included in the table: hybrid relativizers (consisting of \\nboth a pronoun and a particle), frequency differences in the distribution of pronominal and \\nnon-pronominal relativizers across different texts, and suchlike (discussed in detail in Höder \\n2010: 203ff). Still, the overall picture can be captured neatly in a set of constructions such as the \\nones in Table 3. Multilingual constructions \\uf732\\uf735\\uf735\\nAs pronominal relativization does not replace the particle strategy, the idiosyncratic \\nSwedish constructions are preserved but no longer obligatory; this is reflected in the language-unspecific pronominal relative clause construction as compared to the idiosyncratic non-pronominal relative clause construction in Old Swedish. This point \\nillustrates nicely that the simplification of a multilingual system can lead to a com-\\nplexification of a monolingual system. Old Swedish is becoming more complex: two \\nalternative constructions (±pronominal) are possible in Written Old Swedish, whereas \\nearlier only one construction (–pronominal) was possible. However, if we assume a bilingual system with language-specific and unspecified elements, the same develop-ment – i.e. the emergence of an alternative relativization strategy – is obviously a \\nsimplifying change.\\n4. Conclusion\\nLanguage contact involves, as a rule, long-term, stable, intense multilingualism, so-\\ncially embedded in multilingual speaker groups. Consequently, all kinds of interlingual transfer and contact-induced change require, at some stage, a form of conventional-ized multilingual communicative behavior and some kind of cognitive interaction between the languages. Therefore, I have advocated an essentially multilingual per -\\nspective on language contact in this contribution. Multilingual speaker groups know (though not necessarily consciously), utilize, and conventionalize diasystematic rela-tions between their languages. They establish and expand regular correspondences, generalize and abstract on the basis of language-specific structures, and eventually organize their languages into a common system. Within a DCxG framework, this sys-tem, consisting both of diasystematic and idiosyncratic elements, can be modeled as an interlingual network of constructions with different degrees of schematicity.\\nSources\\nBir = Lindell, I. (ed). 2000. Heliga Birgittas uppenbarelser bok 7 efter Cod. Ups. C 61 [Samlingar \\nutgivna av Svenska fornskriftsällskapet 1.84]. Uppsala: Svenska fornskriftsällskapet.\\nOCG = “Ordning vid val af confessor generalis i Vadstena kloster” , 1900–1916. In Småstycken på \\nforn svenska. Volume 2, R. Geete (ed.), 109–124. Stockholm: Norstedt.\\nSsS = Andersson, R. (ed) 2006. Sermones sacri Svecice. The sermon collection in Cod. AM 787 4° \\n[Samlingar utgivna av Svenska fornskriftsällskapet 1.86]. Uppsala: Svenska fornskriftsäll-\\nskapet.\\uf732\\uf735\\uf736\\t Steffen Höder\\nReferences\\nAhlberg, M. 1942. Presensparticipet i fornsvenskan: En syntaktisk studie. Lund: Blom.\\nAikhenvald, A. Y . 2007. Grammars in contact: A cross-linguistic perspective. In Grammars in \\nContact: A Cross-linguistic Typology, eds. A. Y . Aikhenvald & R. M. W . Dixon, 1–66. Oxford: \\nOUP .\\nBergs, A. & G. Diewald, eds. 2008. Constructions and Language Change. Berlin: Mouton de \\nGruyter.\\nCoseriu, E. 1974. Synchronie, Diachronie und Geschichte: Das Problem des Sprachwandels. \\nMünchen: Fink.\\nCroft, W . 2001. Radical Construction Grammar: Syntactic Theory in Typological Perspective. \\nOxford: OUP .\\nDahl, Ö. 2009. Increases in complexity as a result of language contact. In Convergence and \\nDivergence in Language Contact Situations (Hamburg Studies on Multilingualism 8), eds. K. Braunmüller & J. House, 41–52. Amsterdam: John Benjamins.\\nGoldberg, A. E. 1995. Constructions: A Construction Grammar Approach to Argument Structure. \\nChicago IL: University of Chicago Press.\\nGoldberg, A. E. 2006. Constructions at Work: The Nature of Generalization in Language. Oxford: \\nOUP .\\nGrosjean, F. 1989. Neurolinguists, beware! The bilingual is not two monolinguals in one person. \\nBrain and Language 36: 3–15.\\nGrosjean, F. 2001. The bilingual’s language modes. In One Mind, Two Languages: Bilingual \\nLanguage Processing, ed. J. L. Nicol, 1–22. Malden MA: Blackwell.\\nGrosjean, F. 2008. Studying Bilinguals. Oxford: OUP .\\nHaugen, E. 1956. Bilingualism in the Americas: A Bibliography and Research Guide. Tuscaloosa \\nAL: University of Alabama Press.\\nHeine, B. & T. Kuteva. 2005. Language Contact and Grammatical Change. Cambridge: CUP .\\nHöder, S. 2010. Sprachausbau im Sprachkontakt: Syntaktischer Wandel im Altschwedischen. \\nHeidelberg: Winter.\\nHöder, S. Forthcoming. Constructing diasystems: Grammatical organisation in bilingual groups. \\nIn Language Contact and Change – Grammatical Structure Encounters the Fluidity of Lan-\\nguage, eds. T. Åfarli & B. Mæhlum. Amsterdam: John Benjamins.\\nHöder, S. 2011. Niederdeutsch und Norddeutsch: Ein Fall von Diasystematisierung. \\nNiederdeutsches Jahrbuch 134, 113–136.\\nJohanson, L. 2008. Remodeling grammar: Copying, conventionalization, grammaticalization. In \\nLanguage Contact and Contact Languages (Hamburg Studies on Multilingualism 7), eds. P . Siemund & N. Kintana, 61–79. Amsterdam: John Benjamins.\\nKranich, S., V . Becher & S. Höder. 2011. A tentative typology of translation-induced language \\nchange. In Multilingual Discourse Production, eds. S. Kranich, V . Becher, S. Höder & J. \\nHouse, 11–44. Amsterdam: John Benjamins.\\nKühl, K. H. 2008. Bilingualer Sprachgebrauch bei Jugendlichen im deutsch-dänischen Grenzland. \\nHamburg: Kovač.\\nLehmann, C. 1984. Der Relativsatz: Typologie seiner Strukturen, Theorie seiner Funktionen, \\nKompendium seiner Grammatik. Tübingen: Narr.\\nLindblad, G. 1943. Relativ satsfogning i de nordiska fornspråken (Lundastudier i nordisk \\nspråkvetenskap A 1). Lund: Gleerup. Multilingual constructions \\uf732\\uf735\\uf737\\nLüdi, G. 1996. Mehrsprachigkeit. In Kontaktlinguistik: Ein internationales Handbuch \\nzeitgenössischer Forschung , 1. Halbband, eds. H. Goebl, P . H. Nelde, Z. Starý & W . Wölck, \\n233–245. Berlin: Mouton de Gruyter.\\nMatras, Y . 2009. Language Contact. Cambridge: CUP .\\nMuysken, P . 2000. Bilingual Speech: A Typology of Code-mixing. Cambridge: CUP .Myers-Scotton, C. 2002. Contact Linguistics: Bilingual Encounters and Grammatical Outcomes. \\nOxford: OUP .\\nOesterreicher, W . 2001. Historizität − Sprachvariation, Sprachverschiedenheit, Sprachwandel. In \\nLanguage Typology and Language Universals, Band 2, eds. M. Haspelmath, E. König, W . Oesterreicher & W . Raible, 1554–1595. Berlin: Mouton de Gruyter.\\nPietsch, L. 2010. What has changed in Hiberno-English: Constructions and their role in contact-\\ninduced change. Language Typology and Universals 63: 118–145.\\nThomason, S. G. & T. Kaufman. 1988. Language Contact, Creolization, and Genetic Linguistics. \\nBerkeley CA: University of California Press.\\nWeinreich, U. 1954. Is a structural dialectology possible? Word  10: 388–400.\\nWeinreich, U. 1964. Languages in Contact: Findings and Problems. The Hague: Mouton.\\nWollin, L. 1981/1983. Svensk latinöversättning (Samlingar utgivna av Svenska fornskriftsällskapet \\n1.74). Lund: Blom.\\nWollin, L. 2007. ‘Hoo haffuer honom lärdt then grammaticam?’ Die Flexion lateinischer Lehn-\\nwörter im älteren Schwedisch. In Hochdeutsch in Skandinavien III. III. Internationales \\nSymposium , Greifswald, 24–25. Mai 2002 (Osloer Beiträge zur Germanistik 38), ed. C. \\nLindqvist, 33–50. Frankfurt: Peter Lang.'"
      ]
     },
     "execution_count": 81,
     "metadata": {},
     "output_type": "execute_result"
    }
   ],
   "source": [
    "raw_text"
   ]
  },
  {
   "cell_type": "code",
   "execution_count": 82,
   "metadata": {},
   "outputs": [
    {
     "name": "stderr",
     "output_type": "stream",
     "text": [
      "Created a chunk of size 917, which is longer than the specified 800\n",
      "Created a chunk of size 825, which is longer than the specified 800\n",
      "Created a chunk of size 869, which is longer than the specified 800\n",
      "Created a chunk of size 941, which is longer than the specified 800\n"
     ]
    }
   ],
   "source": [
    "# We need to split the text using Character Text Split such that it sshould not increse token size\n",
    "text_splitter = CharacterTextSplitter(\n",
    "    separator = \"\\n\",\n",
    "    chunk_size = 800,\n",
    "    chunk_overlap  = 200,\n",
    "    length_function = len,\n",
    ")\n",
    "texts = text_splitter.split_text(raw_text)"
   ]
  },
  {
   "cell_type": "code",
   "execution_count": 83,
   "metadata": {},
   "outputs": [
    {
     "data": {
      "text/plain": [
       "81"
      ]
     },
     "execution_count": 83,
     "metadata": {},
     "output_type": "execute_result"
    }
   ],
   "source": [
    "len(texts)"
   ]
  },
  {
   "cell_type": "code",
   "execution_count": 84,
   "metadata": {},
   "outputs": [],
   "source": [
    "# Download embeddings from OpenAI\n",
    "embeddings = OpenAIEmbeddings()"
   ]
  },
  {
   "cell_type": "code",
   "execution_count": 85,
   "metadata": {},
   "outputs": [],
   "source": [
    "document_search = FAISS.from_texts(texts, embeddings)"
   ]
  },
  {
   "cell_type": "code",
   "execution_count": 86,
   "metadata": {},
   "outputs": [
    {
     "data": {
      "text/plain": [
       "<langchain_community.vectorstores.faiss.FAISS at 0x12d3aa7f0>"
      ]
     },
     "execution_count": 86,
     "metadata": {},
     "output_type": "execute_result"
    }
   ],
   "source": [
    "document_search\n"
   ]
  },
  {
   "cell_type": "code",
   "execution_count": 87,
   "metadata": {},
   "outputs": [],
   "source": [
    "from langchain.chains.question_answering import load_qa_chain\n",
    "from langchain.llms import OpenAI"
   ]
  },
  {
   "cell_type": "code",
   "execution_count": 88,
   "metadata": {},
   "outputs": [],
   "source": [
    "chain = load_qa_chain(OpenAI(), chain_type=\"stuff\")"
   ]
  },
  {
   "cell_type": "code",
   "execution_count": 116,
   "metadata": {},
   "outputs": [
    {
     "name": "stdout",
     "output_type": "stream",
     "text": [
      "\n",
      "\n",
      "## Quali sono gli obiettivi della ricerca? scrivi almeno tre capoversi ##\n",
      "\n",
      "\n",
      "1. Il primo obiettivo della ricerca è quello di indagare sul problema teorico centrale della linguistica di contatto: se sia ragionevole assumere che le lingue o le varietà usate da un gruppo di parlanti multilingue rimangano sistemi distinti anche in casi di contatto linguistico intenso e stabile, oppure se sia più appropriato considerarle come un unico sistema comune.\n",
      "2. Un secondo obiettivo è quello di esplorare come il contatto linguistico influenzi i cambiamenti nelle lingue coinvolte e come questi cambiamenti siano storicamente stabili o meno.\n",
      "3. Infine, la ricerca mira a comprendere il fenomeno del contatto linguistico da una prospettiva multilingue, osservando come l'interazione cognitiva tra le lingue coinvolte influenzi i fenomeni di trasferimento e cambiamento linguistico.\n"
     ]
    }
   ],
   "source": [
    "query = \"Quali sono gli obiettivi della ricerca? scrivi almeno tre capoversi\"\n",
    "docs = document_search.similarity_search(query)\n",
    "output = chain.run(input_documents=docs, question=query)  # Salva l'output in una variabile\n",
    "\n",
    "# Scrivi la domanda e la risposta nel file, separati da una riga vuota, e metti la domanda tra ##\n",
    "with open('output.txt', 'w', encoding='utf-8') as file:\n",
    "    file.write('\\n\\n' + '## ' + query + ' ##' + '\\n\\n' + output)\n",
    "# Stampa l'output a video\n",
    "print('\\n\\n' + '## ' + query + ' ##' + '\\n\\n' + output)"
   ]
  },
  {
   "cell_type": "code",
   "execution_count": 117,
   "metadata": {},
   "outputs": [
    {
     "name": "stdout",
     "output_type": "stream",
     "text": [
      "\n",
      "\n",
      "## Quali sono le metodologie della ricerca? alemeno tre capoversi##\n",
      "\n",
      "\n",
      "1. La ricerca sui multilinguismi si basa su una varietà di metodologie, tra cui l'analisi linguistica, lo studio delle differenze linguistiche e culturali, e l'osservazione dei comportamenti comunicativi dei multilingui.\n",
      "2. Alcune delle principali metodologie utilizzate sono l'analisi della struttura grammaticale, l'analisi dei sistemi di suoni e la comparazione delle parole in diverse lingue.\n",
      "3. Altre metodologie includono lo studio dei modi in cui i multilingui gestiscono le loro lingue e il loro uso del codice misto, nonché l'analisi dei cambiamenti nella lingua causati dal contatto con altre lingue.\n",
      "\n",
      "\n"
     ]
    }
   ],
   "source": [
    "# Seconda domanda\n",
    "query2 = \"Quali sono le metodologie della ricerca? alemeno tre capoversi\"\n",
    "docs2 = document_search.similarity_search(query2)\n",
    "output2 = chain.run(input_documents=docs2, question=query2)\n",
    "\n",
    "# Aggiungi la seconda domanda e la risposta al file, separati da una riga vuota, e metti la domanda tra ##\n",
    "with open('output.txt', 'a', encoding='utf-8') as file:\n",
    "    file.write('\\n\\n' + '##' + query2 + '##' + '\\n\\n' + output2 + '\\n\\n')\n",
    "    \n",
    "# Stampa l'output a video\n",
    "print('\\n\\n' + '## ' + query2 + '##' + '\\n\\n' + output2 + '\\n\\n')"
   ]
  },
  {
   "cell_type": "code",
   "execution_count": 118,
   "metadata": {},
   "outputs": [
    {
     "name": "stdout",
     "output_type": "stream",
     "text": [
      "\n",
      "\n",
      "##Quali sono i risultati della ricerca? alemeno tre capoversi##\n",
      "\n",
      "\n",
      "Non è possibile rispondere con precisione a questa domanda senza ulteriori informazioni. La ricerca menzionata sembra trattare di diversi aspetti della lingua svedese antica e della sua relazione con il latino, ma non è chiaro quali risultati specifici siano stati ottenuti. Inoltre, la domanda potrebbe riferirsi a diverse parti del testo sopra riportato, senza specificare quale. Senza ulteriori informazioni, non è possibile fornire una risposta precisa. \n",
      "\n",
      "\n"
     ]
    }
   ],
   "source": [
    "#terza domanda\n",
    "query3 = \"Quali sono i risultati della ricerca? alemeno tre capoversi\"\n",
    "docs3 = document_search.similarity_search(query3)\n",
    "output3 = chain.run(input_documents=docs3, question=query3)\n",
    "\n",
    "# Aggiungi la seconda domanda e la risposta al file, separati da una riga vuota, e metti la domanda tra ##\n",
    "with open('output.txt', 'a', encoding='utf-8') as file:\n",
    "    file.write('\\n\\n' + '##' + query3 + '##' + '\\n\\n' + output3 + '\\n\\n')\n",
    "\n",
    "# Stampa l'output a video\n",
    "print('\\n\\n' + '##' + query3 + '##' + '\\n\\n' + output3 + '\\n\\n')"
   ]
  },
  {
   "cell_type": "code",
   "execution_count": 122,
   "metadata": {},
   "outputs": [],
   "source": [
    "from docx import Document\n",
    "from docx.shared import Pt\n",
    "\n",
    "def convert_txt_to_docx(input_txt_file, output_docx_file):\n",
    "    # Creazione di un nuovo documento Word\n",
    "    document = Document()\n",
    "    \n",
    "    # Lettura del file di testo\n",
    "    with open(input_txt_file, 'r', encoding='utf-8') as file:\n",
    "        for line in file:\n",
    "            # Rimuovi spazi bianchi iniziali e finali\n",
    "            stripped_line = line.strip()\n",
    "            \n",
    "            # Identificazione dei titoli\n",
    "            if stripped_line.startswith('##'):\n",
    "                # Rimuovi i segni \"##\" e aggiungi il titolo al documento\n",
    "                title = stripped_line[2:].strip()\n",
    "                heading = document.add_heading(level=1)\n",
    "                run = heading.add_run(title)\n",
    "                run.font.size = Pt(14)  # Imposta la dimensione del carattere del titolo\n",
    "            else:\n",
    "                # Aggiungi il paragrafo al documento\n",
    "                document.add_paragraph(stripped_line)\n",
    "    \n",
    "    # Salvataggio del documento\n",
    "    document.save(output_docx_file)\n",
    "\n",
    "# Esempio di utilizzo\n",
    "input_txt_file = 'output.txt'\n",
    "output_docx_file = 'output.docx'\n",
    "convert_txt_to_docx(input_txt_file, output_docx_file)"
   ]
  }
 ],
 "metadata": {
  "kernelspec": {
   "display_name": "mye",
   "language": "python",
   "name": "python3"
  },
  "language_info": {
   "codemirror_mode": {
    "name": "ipython",
    "version": 3
   },
   "file_extension": ".py",
   "mimetype": "text/x-python",
   "name": "python",
   "nbconvert_exporter": "python",
   "pygments_lexer": "ipython3",
   "version": "3.9.19"
  }
 },
 "nbformat": 4,
 "nbformat_minor": 2
}
